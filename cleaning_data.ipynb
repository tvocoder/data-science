{
 "cells": [
  {
   "cell_type": "markdown",
   "metadata": {},
   "source": [
    "## Python Project\n",
    "Analysis of mobile applications for Android and iOS, the target are applications that are free and derive their main source of revenue from in-app advertisements. The goal of this project is to analyze data to help developers understand which types of apps are likely to be seen and engaged by users.\n",
    "\n",
    "Two data sets each from different mobile app stores the first is data on a collection of approximately 10,000 Android apps from Google Play, the second data set is a collection of approximately 7,000 iOS apps from the App Store.\n",
    "\n",
    "The Android apps data was collected in August 2018, and the App Store data was collected in July of 2017."
   ]
  },
  {
   "cell_type": "markdown",
   "metadata": {},
   "source": [
    "`explore_data()` function:\n",
    "\n",
    "Takes in four parameters:\n",
    "1. `dataset`: list of lists.\n",
    "2. `start`: int. starting index of slice.\n",
    "3. `end`: int. ending index of slice.\n",
    "4. `rows_and_columns`: bool. default to `False`\n",
    "\n",
    "`data_slice`: variable. holds the slice dataset.\n",
    "\n",
    "`for` row `in` dataset_slice: loops through the slice and with each iteration prints a row and adds a new line.\n",
    "\n",
    "`if` rows_and_columns: evaluates to `True`, prints the number of rows and columns."
   ]
  },
  {
   "cell_type": "code",
   "execution_count": 1,
   "metadata": {},
   "outputs": [],
   "source": [
    "def explore_data(dataset, start, end, rows_and_columns=False):\n",
    "    \n",
    "    dataset_slice = dataset[start:end]\n",
    "    \n",
    "    for row in dataset_slice:\n",
    "        print(row)\n",
    "        print('\\n')\n",
    "        \n",
    "    if rows_and_columns:\n",
    "        print('Number of rows:', len(dataset))\n",
    "        print('Number of columns:', len(dataset[0]))\n",
    "    "
   ]
  },
  {
   "cell_type": "markdown",
   "metadata": {},
   "source": [
    "`open_data()` function:\n",
    "Takes in one paramater:\n",
    "1. `file_name`: the path of data set.\n",
    "\n",
    "`open_file`: file object. `open()` function stores file object in `open_file` variable.\n",
    "\n",
    "from `csv` module import `reader` function.\n",
    "\n",
    "`read_file`: variable. stores reader object from `reader` function. storing contents of `opened_file`.\n",
    "`apps_data`: list of lists. stores contents of `read_file`.\n",
    "`header`: list. stores the first row of list. column values of `csv` file.\n",
    "`data`: list of lists. stores remaining rows from `csv` file.\n",
    "\n",
    "function returns two values `header` and `data`"
   ]
  },
  {
   "cell_type": "code",
   "execution_count": 2,
   "metadata": {},
   "outputs": [],
   "source": [
    "def open_data(file_name):\n",
    "    \n",
    "    opened_file = open(file_name, encoding='utf8')\n",
    "    \n",
    "    from csv import reader\n",
    "    read_file = reader(opened_file)\n",
    "    apps_data = list(read_file)\n",
    "    \n",
    "    header = apps_data[0]\n",
    "    data = apps_data[1:]\n",
    "    \n",
    "    return header, data"
   ]
  },
  {
   "cell_type": "markdown",
   "metadata": {},
   "source": [
    "`android_apps_header` and `android_apps_data`: hold return values of the `open_data()` function for `googleplaystore.csv`\n",
    "`apple_apps_header` and `apples_apps_data`: hold return values of the `open_data()` function for `AppleStore.csv`"
   ]
  },
  {
   "cell_type": "code",
   "execution_count": 3,
   "metadata": {},
   "outputs": [],
   "source": [
    "android_apps_header, android_apps_data = open_data('googleplaystore.csv')\n",
    "apple_apps_header, apple_apps_data = open_data('AppleStore.csv')"
   ]
  },
  {
   "cell_type": "code",
   "execution_count": 4,
   "metadata": {},
   "outputs": [
    {
     "name": "stdout",
     "output_type": "stream",
     "text": [
      "['App', 'Category', 'Rating', 'Reviews', 'Size', 'Installs', 'Type', 'Price', 'Content Rating', 'Genres', 'Last Updated', 'Current Ver', 'Android Ver']\n",
      "['Photo Editor & Candy Camera & Grid & ScrapBook', 'ART_AND_DESIGN', '4.1', '159', '19M', '10,000+', 'Free', '0', 'Everyone', 'Art & Design', 'January 7, 2018', '1.0.0', '4.0.3 and up']\n",
      "\n",
      "\n",
      "['Coloring book moana', 'ART_AND_DESIGN', '3.9', '967', '14M', '500,000+', 'Free', '0', 'Everyone', 'Art & Design;Pretend Play', 'January 15, 2018', '2.0.0', '4.0.3 and up']\n",
      "\n",
      "\n",
      "['U Launcher Lite – FREE Live Cool Themes, Hide Apps', 'ART_AND_DESIGN', '4.7', '87510', '8.7M', '5,000,000+', 'Free', '0', 'Everyone', 'Art & Design', 'August 1, 2018', '1.2.4', '4.0.3 and up']\n",
      "\n",
      "\n",
      "['Sketch - Draw & Paint', 'ART_AND_DESIGN', '4.5', '215644', '25M', '50,000,000+', 'Free', '0', 'Teen', 'Art & Design', 'June 8, 2018', 'Varies with device', '4.2 and up']\n",
      "\n",
      "\n",
      "['Pixel Draw - Number Art Coloring Book', 'ART_AND_DESIGN', '4.3', '967', '2.8M', '100,000+', 'Free', '0', 'Everyone', 'Art & Design;Creativity', 'June 20, 2018', '1.1', '4.4 and up']\n",
      "\n",
      "\n",
      "['Paper flowers instructions', 'ART_AND_DESIGN', '4.4', '167', '5.6M', '50,000+', 'Free', '0', 'Everyone', 'Art & Design', 'March 26, 2017', '1.0', '2.3 and up']\n",
      "\n",
      "\n",
      "['Smoke Effect Photo Maker - Smoke Editor', 'ART_AND_DESIGN', '3.8', '178', '19M', '50,000+', 'Free', '0', 'Everyone', 'Art & Design', 'April 26, 2018', '1.1', '4.0.3 and up']\n",
      "\n",
      "\n",
      "['Infinite Painter', 'ART_AND_DESIGN', '4.1', '36815', '29M', '1,000,000+', 'Free', '0', 'Everyone', 'Art & Design', 'June 14, 2018', '6.1.61.1', '4.2 and up']\n",
      "\n",
      "\n",
      "['Garden Coloring Book', 'ART_AND_DESIGN', '4.4', '13791', '33M', '1,000,000+', 'Free', '0', 'Everyone', 'Art & Design', 'September 20, 2017', '2.9.2', '3.0 and up']\n",
      "\n",
      "\n",
      "['Kids Paint Free - Drawing Fun', 'ART_AND_DESIGN', '4.7', '121', '3.1M', '10,000+', 'Free', '0', 'Everyone', 'Art & Design;Creativity', 'July 3, 2018', '2.8', '4.0.3 and up']\n",
      "\n",
      "\n",
      "Number of rows: 10841\n",
      "Number of columns: 13\n"
     ]
    }
   ],
   "source": [
    "print(android_apps_header)\n",
    "explore_data(android_apps_data, 0, 10, True)"
   ]
  },
  {
   "cell_type": "markdown",
   "metadata": {},
   "source": [
    "`row_check` function: takes in two parameters. checks if the column size is valid for each row in the dataset.\n",
    "1. `data`: dataset we are checking.\n",
    "2. `header`: used to check the column length for each row.\n",
    "\n",
    "Function uses a for loop to iterate through each row in `data`. \n",
    "The checks if the `row` length is equal to the length of the `header`.\n",
    "If it isn't it sets `missing_data` to `True`.\n",
    "The prints out the `row` and the index value associated to the `row`.\n",
    "\n",
    "If no missing data is found the function prints out the message `No missing data found.`"
   ]
  },
  {
   "cell_type": "code",
   "execution_count": 5,
   "metadata": {},
   "outputs": [],
   "source": [
    "def row_check(data, header):\n",
    "    missing_data = False\n",
    "    for row in data:\n",
    "        if len(row) != len(header):\n",
    "            missing_data = True\n",
    "            print(row)\n",
    "            print(data.index(row))\n",
    "    if(missing_data != True):\n",
    "        print('No missing data found.')"
   ]
  },
  {
   "cell_type": "code",
   "execution_count": 6,
   "metadata": {},
   "outputs": [
    {
     "name": "stdout",
     "output_type": "stream",
     "text": [
      "['Life Made WI-Fi Touchscreen Photo Frame', '1.9', '19', '3.0M', '1,000+', 'Free', '0', 'Everyone', '', 'February 11, 2018', '1.0.19', '4.0 and up']\n",
      "10472\n"
     ]
    }
   ],
   "source": [
    "row_check(android_apps_data, android_apps_header)"
   ]
  },
  {
   "cell_type": "code",
   "execution_count": 7,
   "metadata": {},
   "outputs": [
    {
     "name": "stdout",
     "output_type": "stream",
     "text": [
      "No missing data found.\n"
     ]
    }
   ],
   "source": [
    "del android_apps_data[10472]\n",
    "row_check(android_apps_data, android_apps_header)"
   ]
  },
  {
   "cell_type": "code",
   "execution_count": 8,
   "metadata": {
    "scrolled": true
   },
   "outputs": [
    {
     "name": "stdout",
     "output_type": "stream",
     "text": [
      "['id', 'track_name', 'size_bytes', 'currency', 'price', 'rating_count_tot', 'rating_count_ver', 'user_rating', 'user_rating_ver', 'ver', 'cont_rating', 'prime_genre', 'sup_devices.num', 'ipadSc_urls.num', 'lang.num', 'vpp_lic']\n",
      "['284882215', 'Facebook', '389879808', 'USD', '0.0', '2974676', '212', '3.5', '3.5', '95.0', '4+', 'Social Networking', '37', '1', '29', '1']\n",
      "\n",
      "\n",
      "['389801252', 'Instagram', '113954816', 'USD', '0.0', '2161558', '1289', '4.5', '4.0', '10.23', '12+', 'Photo & Video', '37', '0', '29', '1']\n",
      "\n",
      "\n",
      "['529479190', 'Clash of Clans', '116476928', 'USD', '0.0', '2130805', '579', '4.5', '4.5', '9.24.12', '9+', 'Games', '38', '5', '18', '1']\n",
      "\n",
      "\n",
      "['420009108', 'Temple Run', '65921024', 'USD', '0.0', '1724546', '3842', '4.5', '4.0', '1.6.2', '9+', 'Games', '40', '5', '1', '1']\n",
      "\n",
      "\n",
      "['284035177', 'Pandora - Music & Radio', '130242560', 'USD', '0.0', '1126879', '3594', '4.0', '4.5', '8.4.1', '12+', 'Music', '37', '4', '1', '1']\n",
      "\n",
      "\n",
      "['429047995', 'Pinterest', '74778624', 'USD', '0.0', '1061624', '1814', '4.5', '4.0', '6.26', '12+', 'Social Networking', '37', '5', '27', '1']\n",
      "\n",
      "\n",
      "['282935706', 'Bible', '92774400', 'USD', '0.0', '985920', '5320', '4.5', '5.0', '7.5.1', '4+', 'Reference', '37', '5', '45', '1']\n",
      "\n",
      "\n",
      "['553834731', 'Candy Crush Saga', '222846976', 'USD', '0.0', '961794', '2453', '4.5', '4.5', '1.101.0', '4+', 'Games', '43', '5', '24', '1']\n",
      "\n",
      "\n",
      "['324684580', 'Spotify Music', '132510720', 'USD', '0.0', '878563', '8253', '4.5', '4.5', '8.4.3', '12+', 'Music', '37', '5', '18', '1']\n",
      "\n",
      "\n",
      "['343200656', 'Angry Birds', '175966208', 'USD', '0.0', '824451', '107', '4.5', '3.0', '7.4.0', '4+', 'Games', '38', '0', '10', '1']\n",
      "\n",
      "\n",
      "Number of rows: 7197\n",
      "Number of columns: 16\n"
     ]
    }
   ],
   "source": [
    "print(apple_apps_header)\n",
    "explore_data(apple_apps_data, 0, 10, True)"
   ]
  },
  {
   "cell_type": "code",
   "execution_count": 9,
   "metadata": {
    "scrolled": true
   },
   "outputs": [
    {
     "name": "stdout",
     "output_type": "stream",
     "text": [
      "No missing data found.\n"
     ]
    }
   ],
   "source": [
    "row_check(apple_apps_data, apple_apps_header)"
   ]
  },
  {
   "cell_type": "markdown",
   "metadata": {},
   "source": [
    "`duplicate_apps_android` and `duplicate_apps_apple` functions"
   ]
  },
  {
   "cell_type": "code",
   "execution_count": 10,
   "metadata": {},
   "outputs": [],
   "source": [
    "def duplicate_apps_android(apps_data):\n",
    "    duplicate_apps = []\n",
    "    unique_apps = []\n",
    "    \n",
    "    for app in apps_data:\n",
    "        app_name = app[0]\n",
    "        if app_name in unique_apps:\n",
    "            duplicate_apps.append(app_name)\n",
    "        else:\n",
    "            unique_apps.append(app_name)\n",
    "            \n",
    "    print('Number of duplicate apps:', len(duplicate_apps))\n",
    "    print('Number of unique apps:', len(unique_apps))\n",
    "    "
   ]
  },
  {
   "cell_type": "code",
   "execution_count": 11,
   "metadata": {},
   "outputs": [],
   "source": [
    "def duplicate_apps_apple(apps_data):\n",
    "    duplicate_apps = {}\n",
    "    unique_apps = {}\n",
    "    \n",
    "    for app in apps_data:\n",
    "        app_id = app[0]\n",
    "        app_name = app[1]\n",
    "        if app_id in unique_apps:\n",
    "            duplicate_apps[app_id] = app_name\n",
    "        else:\n",
    "            unique_apps[app_id] = app_name\n",
    "            \n",
    "    print('Number of duplicate apps:', len(duplicate_apps))\n",
    "    print('Number of unique apps:', len(unique_apps))"
   ]
  },
  {
   "cell_type": "code",
   "execution_count": 12,
   "metadata": {},
   "outputs": [
    {
     "name": "stdout",
     "output_type": "stream",
     "text": [
      "Number of duplicate apps: 0\n",
      "Number of unique apps: 7197\n"
     ]
    }
   ],
   "source": [
    "duplicate_apps_apple(apple_apps_data)"
   ]
  },
  {
   "cell_type": "code",
   "execution_count": 13,
   "metadata": {},
   "outputs": [
    {
     "name": "stdout",
     "output_type": "stream",
     "text": [
      "Number of duplicate apps: 1181\n",
      "Number of unique apps: 9659\n"
     ]
    }
   ],
   "source": [
    "duplicate_apps_android(android_apps_data)"
   ]
  },
  {
   "cell_type": "code",
   "execution_count": 14,
   "metadata": {},
   "outputs": [],
   "source": [
    "def max_reviews_android(app_data):\n",
    "    reviews_max = {}\n",
    "    for app in app_data:\n",
    "        name = app[0]\n",
    "        n_reviews = float(app[3])\n",
    "        \n",
    "        if name in reviews_max and reviews_max[name] < n_reviews:\n",
    "            reviews_max[name] = n_reviews\n",
    "        elif name not in reviews_max:\n",
    "            reviews_max[name] = n_reviews\n",
    "    return reviews_max"
   ]
  },
  {
   "cell_type": "code",
   "execution_count": 15,
   "metadata": {
    "scrolled": true
   },
   "outputs": [
    {
     "name": "stdout",
     "output_type": "stream",
     "text": [
      "9659\n"
     ]
    }
   ],
   "source": [
    "android_max = max_reviews_android(android_apps_data)\n",
    "print(len(android_max))"
   ]
  },
  {
   "cell_type": "code",
   "execution_count": 16,
   "metadata": {},
   "outputs": [],
   "source": [
    "def is_english(str):\n",
    "    foreign_char = 0\n",
    "    \n",
    "    for char in str:\n",
    "        if ord(char) > 127: \n",
    "            foreign_char += 1\n",
    "            \n",
    "        if foreign_char > 3:\n",
    "            return False\n",
    "        else:\n",
    "            return True"
   ]
  },
  {
   "cell_type": "code",
   "execution_count": 17,
   "metadata": {},
   "outputs": [],
   "source": [
    "def clean_android_data(apps_data, dupl_dict):\n",
    "    android_clean = []\n",
    "    already_added = []\n",
    "    \n",
    "    for app in apps_data:\n",
    "        name = app[0]\n",
    "        n_reviews = float(app[3])\n",
    "        \n",
    "        if (dupl_dict[name] == n_reviews) and (name not in already_added):\n",
    "            android_clean.append(app)\n",
    "            already_added.append(name)\n",
    "            \n",
    "    return android_clean"
   ]
  },
  {
   "cell_type": "code",
   "execution_count": 18,
   "metadata": {
    "scrolled": true
   },
   "outputs": [
    {
     "name": "stdout",
     "output_type": "stream",
     "text": [
      "['Photo Editor & Candy Camera & Grid & ScrapBook', 'ART_AND_DESIGN', '4.1', '159', '19M', '10,000+', 'Free', '0', 'Everyone', 'Art & Design', 'January 7, 2018', '1.0.0', '4.0.3 and up']\n",
      "\n",
      "\n",
      "['U Launcher Lite – FREE Live Cool Themes, Hide Apps', 'ART_AND_DESIGN', '4.7', '87510', '8.7M', '5,000,000+', 'Free', '0', 'Everyone', 'Art & Design', 'August 1, 2018', '1.2.4', '4.0.3 and up']\n",
      "\n",
      "\n",
      "['Sketch - Draw & Paint', 'ART_AND_DESIGN', '4.5', '215644', '25M', '50,000,000+', 'Free', '0', 'Teen', 'Art & Design', 'June 8, 2018', 'Varies with device', '4.2 and up']\n",
      "\n",
      "\n",
      "['Pixel Draw - Number Art Coloring Book', 'ART_AND_DESIGN', '4.3', '967', '2.8M', '100,000+', 'Free', '0', 'Everyone', 'Art & Design;Creativity', 'June 20, 2018', '1.1', '4.4 and up']\n",
      "\n",
      "\n",
      "['Paper flowers instructions', 'ART_AND_DESIGN', '4.4', '167', '5.6M', '50,000+', 'Free', '0', 'Everyone', 'Art & Design', 'March 26, 2017', '1.0', '2.3 and up']\n",
      "\n",
      "\n",
      "['Smoke Effect Photo Maker - Smoke Editor', 'ART_AND_DESIGN', '3.8', '178', '19M', '50,000+', 'Free', '0', 'Everyone', 'Art & Design', 'April 26, 2018', '1.1', '4.0.3 and up']\n",
      "\n",
      "\n",
      "['Infinite Painter', 'ART_AND_DESIGN', '4.1', '36815', '29M', '1,000,000+', 'Free', '0', 'Everyone', 'Art & Design', 'June 14, 2018', '6.1.61.1', '4.2 and up']\n",
      "\n",
      "\n",
      "['Garden Coloring Book', 'ART_AND_DESIGN', '4.4', '13791', '33M', '1,000,000+', 'Free', '0', 'Everyone', 'Art & Design', 'September 20, 2017', '2.9.2', '3.0 and up']\n",
      "\n",
      "\n",
      "['Kids Paint Free - Drawing Fun', 'ART_AND_DESIGN', '4.7', '121', '3.1M', '10,000+', 'Free', '0', 'Everyone', 'Art & Design;Creativity', 'July 3, 2018', '2.8', '4.0.3 and up']\n",
      "\n",
      "\n",
      "['Text on Photo - Fonteee', 'ART_AND_DESIGN', '4.4', '13880', '28M', '1,000,000+', 'Free', '0', 'Everyone', 'Art & Design', 'October 27, 2017', '1.0.4', '4.1 and up']\n",
      "\n",
      "\n",
      "Number of rows: 9659\n",
      "Number of columns: 13\n"
     ]
    }
   ],
   "source": [
    "clean_android_list = clean_android_data(android_apps_data, android_max)\n",
    "explore_data(clean_android_list, 0, 10, True)"
   ]
  },
  {
   "cell_type": "markdown",
   "metadata": {},
   "source": [
    "`free_app_android` and `free_app_apple`"
   ]
  },
  {
   "cell_type": "code",
   "execution_count": 19,
   "metadata": {},
   "outputs": [],
   "source": [
    "def free_app_android(apps_data):\n",
    "    android_clean = []\n",
    "    for app in apps_data:\n",
    "        price = app[7]\n",
    "        if price == '0':\n",
    "            android_clean.append(app)\n",
    "    return android_clean\n",
    "        "
   ]
  },
  {
   "cell_type": "code",
   "execution_count": 20,
   "metadata": {},
   "outputs": [],
   "source": [
    "def free_app_apple(apps_data):\n",
    "    apple_clean = []\n",
    "    for app in apps_data:\n",
    "        price = app[4]\n",
    "        if price == '0.0':\n",
    "            apple_clean.append(app)\n",
    "    return apple_clean\n",
    "        "
   ]
  },
  {
   "cell_type": "code",
   "execution_count": 21,
   "metadata": {
    "jupyter": {
     "outputs_hidden": true
    }
   },
   "outputs": [
    {
     "name": "stdout",
     "output_type": "stream",
     "text": [
      "['Photo Editor & Candy Camera & Grid & ScrapBook', 'ART_AND_DESIGN', '4.1', '159', '19M', '10,000+', 'Free', '0', 'Everyone', 'Art & Design', 'January 7, 2018', '1.0.0', '4.0.3 and up']\n",
      "\n",
      "\n",
      "['U Launcher Lite – FREE Live Cool Themes, Hide Apps', 'ART_AND_DESIGN', '4.7', '87510', '8.7M', '5,000,000+', 'Free', '0', 'Everyone', 'Art & Design', 'August 1, 2018', '1.2.4', '4.0.3 and up']\n",
      "\n",
      "\n",
      "['Sketch - Draw & Paint', 'ART_AND_DESIGN', '4.5', '215644', '25M', '50,000,000+', 'Free', '0', 'Teen', 'Art & Design', 'June 8, 2018', 'Varies with device', '4.2 and up']\n",
      "\n",
      "\n",
      "['Pixel Draw - Number Art Coloring Book', 'ART_AND_DESIGN', '4.3', '967', '2.8M', '100,000+', 'Free', '0', 'Everyone', 'Art & Design;Creativity', 'June 20, 2018', '1.1', '4.4 and up']\n",
      "\n",
      "\n",
      "['Paper flowers instructions', 'ART_AND_DESIGN', '4.4', '167', '5.6M', '50,000+', 'Free', '0', 'Everyone', 'Art & Design', 'March 26, 2017', '1.0', '2.3 and up']\n",
      "\n",
      "\n",
      "['Smoke Effect Photo Maker - Smoke Editor', 'ART_AND_DESIGN', '3.8', '178', '19M', '50,000+', 'Free', '0', 'Everyone', 'Art & Design', 'April 26, 2018', '1.1', '4.0.3 and up']\n",
      "\n",
      "\n",
      "['Infinite Painter', 'ART_AND_DESIGN', '4.1', '36815', '29M', '1,000,000+', 'Free', '0', 'Everyone', 'Art & Design', 'June 14, 2018', '6.1.61.1', '4.2 and up']\n",
      "\n",
      "\n",
      "['Garden Coloring Book', 'ART_AND_DESIGN', '4.4', '13791', '33M', '1,000,000+', 'Free', '0', 'Everyone', 'Art & Design', 'September 20, 2017', '2.9.2', '3.0 and up']\n",
      "\n",
      "\n",
      "['Kids Paint Free - Drawing Fun', 'ART_AND_DESIGN', '4.7', '121', '3.1M', '10,000+', 'Free', '0', 'Everyone', 'Art & Design;Creativity', 'July 3, 2018', '2.8', '4.0.3 and up']\n",
      "\n",
      "\n",
      "['Text on Photo - Fonteee', 'ART_AND_DESIGN', '4.4', '13880', '28M', '1,000,000+', 'Free', '0', 'Everyone', 'Art & Design', 'October 27, 2017', '1.0.4', '4.1 and up']\n",
      "\n",
      "\n",
      "Number of rows: 9659\n",
      "Number of columns: 13\n",
      "\n",
      "\n",
      "['284882215', 'Facebook', '389879808', 'USD', '0.0', '2974676', '212', '3.5', '3.5', '95.0', '4+', 'Social Networking', '37', '1', '29', '1']\n",
      "\n",
      "\n",
      "['389801252', 'Instagram', '113954816', 'USD', '0.0', '2161558', '1289', '4.5', '4.0', '10.23', '12+', 'Photo & Video', '37', '0', '29', '1']\n",
      "\n",
      "\n",
      "['529479190', 'Clash of Clans', '116476928', 'USD', '0.0', '2130805', '579', '4.5', '4.5', '9.24.12', '9+', 'Games', '38', '5', '18', '1']\n",
      "\n",
      "\n",
      "['420009108', 'Temple Run', '65921024', 'USD', '0.0', '1724546', '3842', '4.5', '4.0', '1.6.2', '9+', 'Games', '40', '5', '1', '1']\n",
      "\n",
      "\n",
      "['284035177', 'Pandora - Music & Radio', '130242560', 'USD', '0.0', '1126879', '3594', '4.0', '4.5', '8.4.1', '12+', 'Music', '37', '4', '1', '1']\n",
      "\n",
      "\n",
      "['429047995', 'Pinterest', '74778624', 'USD', '0.0', '1061624', '1814', '4.5', '4.0', '6.26', '12+', 'Social Networking', '37', '5', '27', '1']\n",
      "\n",
      "\n",
      "['282935706', 'Bible', '92774400', 'USD', '0.0', '985920', '5320', '4.5', '5.0', '7.5.1', '4+', 'Reference', '37', '5', '45', '1']\n",
      "\n",
      "\n",
      "['553834731', 'Candy Crush Saga', '222846976', 'USD', '0.0', '961794', '2453', '4.5', '4.5', '1.101.0', '4+', 'Games', '43', '5', '24', '1']\n",
      "\n",
      "\n",
      "['324684580', 'Spotify Music', '132510720', 'USD', '0.0', '878563', '8253', '4.5', '4.5', '8.4.3', '12+', 'Music', '37', '5', '18', '1']\n",
      "\n",
      "\n",
      "['343200656', 'Angry Birds', '175966208', 'USD', '0.0', '824451', '107', '4.5', '3.0', '7.4.0', '4+', 'Games', '38', '0', '10', '1']\n",
      "\n",
      "\n",
      "Number of rows: 7197\n",
      "Number of columns: 16\n"
     ]
    }
   ],
   "source": [
    "android_english = []\n",
    "ios_english = []\n",
    "\n",
    "for app in clean_android_list:\n",
    "    name = app[0]\n",
    "    \n",
    "    if is_english(name):\n",
    "        android_english.append(app)\n",
    "        \n",
    "for app in apple_apps_data:\n",
    "    name = app[1]\n",
    "    if is_english(name):\n",
    "        ios_english.append(app)\n",
    "        \n",
    "explore_data(android_english, 0, 10, True)\n",
    "print('\\n')\n",
    "explore_data(ios_english, 0, 10, True)"
   ]
  },
  {
   "cell_type": "code",
   "execution_count": 22,
   "metadata": {},
   "outputs": [
    {
     "name": "stdout",
     "output_type": "stream",
     "text": [
      "8905\n",
      "4056\n"
     ]
    }
   ],
   "source": [
    "android_final = free_app_android(android_english)\n",
    "apple_final = free_app_apple(ios_english)\n",
    "\n",
    "print(len(android_final))\n",
    "print(len(apple_final))"
   ]
  },
  {
   "cell_type": "markdown",
   "metadata": {},
   "source": [
    "## Validation Strategy\n",
    "The aim is to deteremine the kinds of apps that are likely to attract more users based on revenue that is influenced by the number of people using the apps.\n",
    "\n",
    "To minimize risks and overhead, the validation strategy is comprised of three steps:\n",
    "1. Build a minimal Android version of the app, and add it to the Google Play.\n",
    "2. If the app has a good response from users, we develop it further.\n",
    "3. If the app is profitable after six months, we build an iOS version of the app and add it to the Apple Store.\n",
    "\n",
    "The end goal is to add on both Google Play and the Apple Store, finding app profiles that are successful in both markets."
   ]
  },
  {
   "cell_type": "markdown",
   "metadata": {},
   "source": [
    "Build a frequency table for the `prime_genre` of the Apple Store data set, and for the `Genres` and `Gategory` columns of the Google Play data set."
   ]
  },
  {
   "cell_type": "markdown",
   "metadata": {},
   "source": [
    "A function to generate a frequency table to analyze the show percentages."
   ]
  },
  {
   "cell_type": "markdown",
   "metadata": {},
   "source": [
    "A function use to display the percentages in a decending order.\n",
    "\n",
    "`display_table()` function.\n",
    "- Takes in two parameters: `dataset` and `index`. `dataset` is expected to be a list of lists, and `index` is expected to be an integer.\n",
    "- Genereates a frequency table using the `freq_table()` function.\n",
    "- Transforms the frequency table into a list of tuples, then sorts the list in a descending order.\n",
    "- Prints the entries of the frequency table in descending order."
   ]
  },
  {
   "cell_type": "code",
   "execution_count": 27,
   "metadata": {},
   "outputs": [],
   "source": [
    "def display_table(dataset, index):\n",
    "    table = freq_table(dataset, index)\n",
    "    table_display = []\n",
    "    \n",
    "    for key in table:\n",
    "        key_val_as_tuple = (table[key], key)\n",
    "        table_display.append(key_val_as_tuple)\n",
    "        \n",
    "    table_sorted = sorted(table_display, reverse = True)\n",
    "    for entry in table_sorted:\n",
    "        print(entry[1], ':', entry[0])"
   ]
  },
  {
   "cell_type": "code",
   "execution_count": 24,
   "metadata": {},
   "outputs": [],
   "source": [
    "def freq_table(dataset, index):\n",
    "    table = {}\n",
    "    total = 0\n",
    "    \n",
    "    for row in dataset:\n",
    "        total += 1\n",
    "        value = row[index]\n",
    "        \n",
    "        if value in table:\n",
    "            table[value] += 1\n",
    "        else: table[value] = 1\n",
    "            \n",
    "        table_percentages = {}\n",
    "        for key in table:\n",
    "            percentage = (table[key] / total) * 100\n",
    "            table_percentages[key] = percentage\n",
    "            \n",
    "    return table_percentages"
   ]
  },
  {
   "cell_type": "code",
   "execution_count": 25,
   "metadata": {},
   "outputs": [],
   "source": [
    "category = 1\n",
    "genres = 9\n",
    "prime_genre = 11"
   ]
  },
  {
   "cell_type": "code",
   "execution_count": 28,
   "metadata": {},
   "outputs": [
    {
     "name": "stdout",
     "output_type": "stream",
     "text": [
      "Games : 55.64595660749507\n",
      "Entertainment : 8.234714003944774\n",
      "Photo & Video : 4.117357001972387\n",
      "Social Networking : 3.5256410256410255\n",
      "Education : 3.2544378698224854\n",
      "Shopping : 2.983234714003945\n",
      "Utilities : 2.687376725838264\n",
      "Lifestyle : 2.3175542406311638\n",
      "Finance : 2.0710059171597637\n",
      "Sports : 1.947731755424063\n",
      "Health & Fitness : 1.8737672583826428\n",
      "Music : 1.6518737672583828\n",
      "Book : 1.6272189349112427\n",
      "Productivity : 1.5285996055226825\n",
      "News : 1.4299802761341223\n",
      "Travel : 1.3806706114398422\n",
      "Food & Drink : 1.0601577909270217\n",
      "Weather : 0.7642998027613412\n",
      "Reference : 0.4930966469428008\n",
      "Navigation : 0.4930966469428008\n",
      "Business : 0.4930966469428008\n",
      "Catalogs : 0.22189349112426035\n",
      "Medical : 0.19723865877712032\n"
     ]
    }
   ],
   "source": [
    "display_table(apple_final, -5)"
   ]
  },
  {
   "cell_type": "code",
   "execution_count": 29,
   "metadata": {},
   "outputs": [
    {
     "name": "stdout",
     "output_type": "stream",
     "text": [
      "FAMILY : 18.97810218978102\n",
      "GAME : 9.70241437394722\n",
      "TOOLS : 8.433464345873105\n",
      "BUSINESS : 4.581695676586187\n",
      "LIFESTYLE : 3.9303761931499155\n",
      "PRODUCTIVITY : 3.885457608085345\n",
      "FINANCE : 3.6833239752947784\n",
      "MEDICAL : 3.5148792813026386\n",
      "SPORTS : 3.3801235261089273\n",
      "PERSONALIZATION : 3.312745648512072\n",
      "COMMUNICATION : 3.2341381246490735\n",
      "HEALTH_AND_FITNESS : 3.065693430656934\n",
      "PHOTOGRAPHY : 2.9421673217293653\n",
      "NEWS_AND_MAGAZINES : 2.829870859067939\n",
      "SOCIAL : 2.6501965188096577\n",
      "TRAVEL_AND_LOCAL : 2.3245367770915215\n",
      "SHOPPING : 2.2459292532285233\n",
      "BOOKS_AND_REFERENCE : 2.1785513756316677\n",
      "DATING : 1.8528916339135317\n",
      "VIDEO_PLAYERS : 1.7967434025828188\n",
      "MAPS_AND_NAVIGATION : 1.4149354295339696\n",
      "FOOD_AND_DRINK : 1.235261089275688\n",
      "EDUCATION : 1.167883211678832\n",
      "ENTERTAINMENT : 0.9545199326221224\n",
      "LIBRARIES_AND_DEMO : 0.9320606400898372\n",
      "AUTO_AND_VEHICLES : 0.9208309938236946\n",
      "HOUSE_AND_HOME : 0.8197641774284109\n",
      "WEATHER : 0.7973048848961257\n",
      "EVENTS : 0.7074677147669848\n",
      "PARENTING : 0.6513194834362718\n",
      "ART_AND_DESIGN : 0.6513194834362718\n",
      "COMICS : 0.6288601909039866\n",
      "BEAUTY : 0.5951712521055587\n"
     ]
    }
   ],
   "source": [
    "display_table(android_final, category)"
   ]
  },
  {
   "cell_type": "code",
   "execution_count": null,
   "metadata": {},
   "outputs": [],
   "source": []
  }
 ],
 "metadata": {
  "kernelspec": {
   "display_name": "Python 3",
   "language": "python",
   "name": "python3"
  },
  "language_info": {
   "codemirror_mode": {
    "name": "ipython",
    "version": 3
   },
   "file_extension": ".py",
   "mimetype": "text/x-python",
   "name": "python",
   "nbconvert_exporter": "python",
   "pygments_lexer": "ipython3",
   "version": "3.8.3"
  }
 },
 "nbformat": 4,
 "nbformat_minor": 4
}
